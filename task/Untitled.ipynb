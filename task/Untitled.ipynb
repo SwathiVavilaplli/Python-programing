{
  "metadata": {
    "language_info": {
      "codemirror_mode": {
        "name": "python",
        "version": 3
      },
      "file_extension": ".py",
      "mimetype": "text/x-python",
      "name": "python",
      "nbconvert_exporter": "python",
      "pygments_lexer": "ipython3",
      "version": "3.8"
    },
    "kernelspec": {
      "name": "python",
      "display_name": "Python (Pyodide)",
      "language": "python"
    }
  },
  "nbformat_minor": 4,
  "nbformat": 4,
  "cells": [
    {
      "cell_type": "code",
      "source": "#string intialisation\ns=\"this is my first python programming class and i am learnING python string and its functions\"\nprint(s)",
      "metadata": {
        "trusted": true
      },
      "execution_count": 5,
      "outputs": [
        {
          "name": "stdout",
          "text": "this is my first python programming class and i am learnING python string and its functions\n",
          "output_type": "stream"
        }
      ]
    },
    {
      "cell_type": "code",
      "source": "#data extraction using string index number\nprint(s[1:300:3])",
      "metadata": {
        "trusted": true
      },
      "execution_count": 6,
      "outputs": [
        {
          "name": "stdout",
          "text": "h   r tnrrmglsnimenGyosi dtfco\n",
          "output_type": "stream"
        }
      ]
    },
    {
      "cell_type": "code",
      "source": "#string reverse\nprint(s[::-1])",
      "metadata": {
        "trusted": true
      },
      "execution_count": 10,
      "outputs": [
        {
          "name": "stdout",
          "text": "snoitcnuf sti dna gnirts nohtyp GNInrael ma i dna ssalc gnimmargorp nohtyp tsrif ym si siht\n",
          "output_type": "stream"
        }
      ]
    },
    {
      "cell_type": "code",
      "source": "k=s.upper()\nprint(k)#coverted string into uppercase\nprint(k.split())#split the string which is in the uppercase",
      "metadata": {
        "trusted": true
      },
      "execution_count": 12,
      "outputs": [
        {
          "name": "stdout",
          "text": "THIS IS MY FIRST PYTHON PROGRAMMING CLASS AND I AM LEARNING PYTHON STRING AND ITS FUNCTIONS\n['THIS', 'IS', 'MY', 'FIRST', 'PYTHON', 'PROGRAMMING', 'CLASS', 'AND', 'I', 'AM', 'LEARNING', 'PYTHON', 'STRING', 'AND', 'ITS', 'FUNCTIONS']\n",
          "output_type": "stream"
        }
      ]
    },
    {
      "cell_type": "code",
      "source": "#4.conert string into lowercase\nprint(k.lower())",
      "metadata": {
        "trusted": true
      },
      "execution_count": 13,
      "outputs": [
        {
          "name": "stdout",
          "text": "this is my first python programming class and i am learning python string and its functions\n",
          "output_type": "stream"
        }
      ]
    },
    {
      "cell_type": "code",
      "source": "#5capitalize the whole string\nprint(k.capitalize())",
      "metadata": {
        "trusted": true
      },
      "execution_count": 15,
      "outputs": [
        {
          "name": "stdout",
          "text": "This is my first python programming class and i am learning python string and its functions\n",
          "output_type": "stream"
        }
      ]
    },
    {
      "cell_type": "markdown",
      "source": "#6difference between isalnum and is alpha\nthe main difference between isalnum() and isalpha() is in isalnum()it gives true when string contains alphabets and numerical values but isalpha() gives true when a string contalins only alphabetics otherwise it gives false.",
      "metadata": {}
    },
    {
      "cell_type": "code",
      "source": "#7 exapndtabs()\ns=\"s\\tw\\ta\\tt\\th\\ti\\t\"\ns.expandtabs()",
      "metadata": {
        "trusted": true
      },
      "execution_count": 17,
      "outputs": [
        {
          "execution_count": 17,
          "output_type": "execute_result",
          "data": {
            "text/plain": "'s       w       a       t       h       i       '"
          },
          "metadata": {}
        }
      ]
    },
    {
      "cell_type": "code",
      "source": "#8 example for strip,lstrip,rstrip\nk=\"      swathi        \"\nprint(k.strip())#remove the spaces\nprint(k.lstrip())#remove left space\nprint(k.rstrip())#remove right space\n",
      "metadata": {
        "trusted": true
      },
      "execution_count": 21,
      "outputs": [
        {
          "name": "stdout",
          "text": "swathi\nswathi        \n      swathi\n",
          "output_type": "stream"
        }
      ]
    },
    {
      "cell_type": "code",
      "source": "#9 replace a string character \ns=\"swathis\"\ns.replace(\"s\",\"k\")",
      "metadata": {
        "trusted": true
      },
      "execution_count": 22,
      "outputs": [
        {
          "execution_count": 22,
          "output_type": "execute_result",
          "data": {
            "text/plain": "'kwathik'"
          },
          "metadata": {}
        }
      ]
    },
    {
      "cell_type": "code",
      "source": "#10 centralised\ns.center(30,\"*\")",
      "metadata": {
        "trusted": true
      },
      "execution_count": 23,
      "outputs": [
        {
          "execution_count": 23,
          "output_type": "execute_result",
          "data": {
            "text/plain": "'***********swathis************'"
          },
          "metadata": {}
        }
      ]
    },
    {
      "cell_type": "markdown",
      "source": "#compiler and interpreter\ncompiler is convert the whole code from souce code into machinary code at a time\ninterpreter is covert the source code into machinary code line by line",
      "metadata": {}
    },
    {
      "cell_type": "markdown",
      "source": "#pyhton interpreter and compiler\npython converts the sorce code into achinary code line by line so it os interpreter this convertion is takes place using complier in virtually.so python is called as interpreter and complier language.",
      "metadata": {}
    }
  ]
}